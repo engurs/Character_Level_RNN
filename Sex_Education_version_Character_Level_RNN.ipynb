{
  "nbformat": 4,
  "nbformat_minor": 0,
  "metadata": {
    "colab": {
      "name": "Sex_Education_version_Character_Level_RNN.ipynb",
      "version": "0.3.2",
      "provenance": [],
      "collapsed_sections": []
    },
    "kernelspec": {
      "name": "python3",
      "display_name": "Python 3"
    }
  },
  "cells": [
    {
      "metadata": {
        "id": "MUVtGJ6q_8Ws",
        "colab_type": "text"
      },
      "cell_type": "markdown",
      "source": [
        "# Character-Level LSTM in PyTorch\n",
        "\n",
        "In this notebook, I'll construct a character-level LSTM with PyTorch. The network will train character by character on some text, then generate new text character by character. As an example, I will train on Netflix's \"Sex Education\". **This model will be able to generate new text based on the text from the scripts of the serie!**\n",
        "\n",
        "This network is based off of Andrej Karpathy's [post on RNNs](http://karpathy.github.io/2015/05/21/rnn-effectiveness/) and [implementation in Torch](https://github.com/karpathy/char-rnn). Below is the general architecture of the character-wise RNN.\n",
        "\n",
        "<img src=\"assets/charseq.jpeg\" width=\"500\">"
      ]
    },
    {
      "metadata": {
        "id": "FE0WC4RiRGuY",
        "colab_type": "code",
        "outputId": "7b9696cd-cbaf-4bb9-8b50-1cbde607b092",
        "colab": {
          "base_uri": "https://localhost:8080/",
          "height": 55
        }
      },
      "cell_type": "code",
      "source": [
        "!pip3 install https://download.pytorch.org/whl/cpu/torch-1.0.0-cp36-cp36m-linux_x86_64.whl"
      ],
      "execution_count": 1,
      "outputs": [
        {
          "output_type": "stream",
          "text": [
            "Requirement already satisfied: torch==1.0.0 from https://download.pytorch.org/whl/cpu/torch-1.0.0-cp36-cp36m-linux_x86_64.whl in /usr/local/lib/python3.6/dist-packages (1.0.0)\n"
          ],
          "name": "stdout"
        }
      ]
    },
    {
      "metadata": {
        "id": "9E2b3SWuAfBv",
        "colab_type": "code",
        "outputId": "e36f103e-0039-4f37-83e2-dc26044b41a1",
        "colab": {
          "base_uri": "https://localhost:8080/",
          "height": 342
        }
      },
      "cell_type": "code",
      "source": [
        "!pip3 install torch torchvision\n"
      ],
      "execution_count": 2,
      "outputs": [
        {
          "output_type": "stream",
          "text": [
            "Requirement already satisfied: torch in /usr/local/lib/python3.6/dist-packages (1.0.0)\n",
            "Requirement already satisfied: torchvision in /usr/local/lib/python3.6/dist-packages (0.2.1)\n",
            "Collecting pillow>=4.1.1 (from torchvision)\n",
            "\u001b[?25l  Downloading https://files.pythonhosted.org/packages/85/5e/e91792f198bbc5a0d7d3055ad552bc4062942d27eaf75c3e2783cf64eae5/Pillow-5.4.1-cp36-cp36m-manylinux1_x86_64.whl (2.0MB)\n",
            "\u001b[K    100% |████████████████████████████████| 2.0MB 14.0MB/s \n",
            "\u001b[?25hRequirement already satisfied: numpy in /usr/local/lib/python3.6/dist-packages (from torchvision) (1.14.6)\n",
            "Requirement already satisfied: six in /usr/local/lib/python3.6/dist-packages (from torchvision) (1.11.0)\n",
            "Installing collected packages: pillow\n",
            "  Found existing installation: Pillow 4.0.0\n",
            "    Uninstalling Pillow-4.0.0:\n",
            "      Successfully uninstalled Pillow-4.0.0\n",
            "Successfully installed pillow-5.4.1\n"
          ],
          "name": "stdout"
        },
        {
          "output_type": "display_data",
          "data": {
            "application/vnd.colab-display-data+json": {
              "pip_warning": {
                "packages": [
                  "PIL"
                ]
              }
            }
          },
          "metadata": {
            "tags": []
          }
        }
      ]
    },
    {
      "metadata": {
        "id": "n5f9aBVG_8Wt",
        "colab_type": "text"
      },
      "cell_type": "markdown",
      "source": [
        "First let's load in our required resources for data loading and model creation."
      ]
    },
    {
      "metadata": {
        "id": "giyaSArI_8Wv",
        "colab_type": "code",
        "colab": {}
      },
      "cell_type": "code",
      "source": [
        "import numpy as np\n",
        "import torch\n",
        "from torch import nn\n",
        "import torch.nn.functional as F"
      ],
      "execution_count": 0,
      "outputs": []
    },
    {
      "metadata": {
        "id": "DwTjaQyE_8Wz",
        "colab_type": "text"
      },
      "cell_type": "markdown",
      "source": [
        "## Load in Data\n",
        "\n",
        "Then, we'll load the Anna Karenina text file and convert it into integers for our network to use. "
      ]
    },
    {
      "metadata": {
        "id": "R85j-ELl_8W0",
        "colab_type": "code",
        "colab": {}
      },
      "cell_type": "code",
      "source": [
        "# open text file and read in data as `text`\n",
        "with open('sex_education_season1_scripts.txt', 'r') as f:\n",
        "    text = f.read()"
      ],
      "execution_count": 0,
      "outputs": []
    },
    {
      "metadata": {
        "id": "7zejslDp_8W2",
        "colab_type": "text"
      },
      "cell_type": "markdown",
      "source": [
        "Let's check out the first 100 characters, make sure everything is peachy. "
      ]
    },
    {
      "metadata": {
        "id": "N-fwLe73_8W3",
        "colab_type": "code",
        "outputId": "4d431732-b010-4c0d-a4c7-f8e2a4dc152f",
        "colab": {
          "base_uri": "https://localhost:8080/",
          "height": 35
        }
      },
      "cell_type": "code",
      "source": [
        "text[:100]"
      ],
      "execution_count": 4,
      "outputs": [
        {
          "output_type": "execute_result",
          "data": {
            "text/plain": [
              "'\\ufeffOoh, yeah Whoo! Do you like my tits? Yeah Hello? Tits! Yeah.\\nI love your tits.\\nDo you wanna come on'"
            ]
          },
          "metadata": {
            "tags": []
          },
          "execution_count": 4
        }
      ]
    },
    {
      "metadata": {
        "id": "ccbtP2rT_8W8",
        "colab_type": "text"
      },
      "cell_type": "markdown",
      "source": [
        "### Tokenization\n",
        "\n",
        "In the cells, below, I'm creating a couple **dictionaries** to convert the characters to and from integers. Encoding the characters as integers makes it easier to use as input in the network."
      ]
    },
    {
      "metadata": {
        "id": "wACla2ig_8W9",
        "colab_type": "code",
        "colab": {}
      },
      "cell_type": "code",
      "source": [
        "# encode the text and map each character to an integer and vice versa\n",
        "\n",
        "# we create two dictionaries:\n",
        "# 1. int2char, which maps integers to characters\n",
        "# 2. char2int, which maps characters to unique integers\n",
        "chars = tuple(set(text))\n",
        "int2char = dict(enumerate(chars))\n",
        "char2int = {ch: ii for ii, ch in int2char.items()}\n",
        "\n",
        "# encode the text\n",
        "encoded = np.array([char2int[ch] for ch in text])"
      ],
      "execution_count": 0,
      "outputs": []
    },
    {
      "metadata": {
        "id": "e9o4ElLl_8XA",
        "colab_type": "text"
      },
      "cell_type": "markdown",
      "source": [
        "And we can see those same characters from above, encoded as integers."
      ]
    },
    {
      "metadata": {
        "id": "-8_DnklM_8XB",
        "colab_type": "code",
        "outputId": "4be5761a-bc69-4366-c65a-2f8edc28caff",
        "colab": {
          "base_uri": "https://localhost:8080/",
          "height": 125
        }
      },
      "cell_type": "code",
      "source": [
        "encoded[:100]"
      ],
      "execution_count": 6,
      "outputs": [
        {
          "output_type": "execute_result",
          "data": {
            "text/plain": [
              "array([ 5, 73, 14, 62, 60, 85, 82, 49, 15, 62, 85, 70, 62, 14, 14, 67, 85,\n",
              "       33, 14, 85, 82, 14, 41, 85, 42,  9, 22, 49, 85, 36, 82, 85, 83,  9,\n",
              "       83, 26, 13, 85, 66, 49, 15, 62, 85, 81, 49, 42, 42, 14, 13, 85, 23,\n",
              "        9, 83, 26, 67, 85, 66, 49, 15, 62, 69, 30, 35, 85, 42, 14, 74, 49,\n",
              "       85, 82, 14, 41, 53, 85, 83,  9, 83, 26, 69, 30, 33, 14, 85, 82, 14,\n",
              "       41, 85,  7, 15, 61, 61, 15, 85, 21, 14, 36, 49, 85, 14, 61])"
            ]
          },
          "metadata": {
            "tags": []
          },
          "execution_count": 6
        }
      ]
    },
    {
      "metadata": {
        "id": "LRnoIU6U_8XE",
        "colab_type": "text"
      },
      "cell_type": "markdown",
      "source": [
        "## Pre-processing the data\n",
        "\n",
        "As you can see in our char-RNN image above, our LSTM expects an input that is **one-hot encoded** meaning that each character is converted into an integer (via our created dictionary) and *then* converted into a column vector where only it's corresponding integer index will have the value of 1 and the rest of the vector will be filled with 0's. Since we're one-hot encoding the data, let's make a function to do that!\n"
      ]
    },
    {
      "metadata": {
        "id": "z6-RXj5O_8XF",
        "colab_type": "code",
        "colab": {}
      },
      "cell_type": "code",
      "source": [
        "def one_hot_encode(arr, n_labels):\n",
        "    \n",
        "    # Initialize the the encoded array\n",
        "    one_hot = np.zeros((np.multiply(*arr.shape), n_labels), dtype=np.float32)\n",
        "    \n",
        "    # Fill the appropriate elements with ones\n",
        "    one_hot[np.arange(one_hot.shape[0]), arr.flatten()] = 1.\n",
        "    \n",
        "    # Finally reshape it to get back to the original array\n",
        "    one_hot = one_hot.reshape((*arr.shape, n_labels))\n",
        "    \n",
        "    return one_hot"
      ],
      "execution_count": 0,
      "outputs": []
    },
    {
      "metadata": {
        "id": "SL1NonU8_8XJ",
        "colab_type": "code",
        "outputId": "c1c365a0-0a07-466a-b31d-31145a3f8336",
        "colab": {
          "base_uri": "https://localhost:8080/",
          "height": 71
        }
      },
      "cell_type": "code",
      "source": [
        "# check that the function works as expected\n",
        "test_seq = np.array([[3, 5, 1]])\n",
        "one_hot = one_hot_encode(test_seq, 8)\n",
        "\n",
        "print(one_hot)"
      ],
      "execution_count": 8,
      "outputs": [
        {
          "output_type": "stream",
          "text": [
            "[[[0. 0. 0. 1. 0. 0. 0. 0.]\n",
            "  [0. 0. 0. 0. 0. 1. 0. 0.]\n",
            "  [0. 1. 0. 0. 0. 0. 0. 0.]]]\n"
          ],
          "name": "stdout"
        }
      ]
    },
    {
      "metadata": {
        "id": "bJgZ3Eja_8XO",
        "colab_type": "text"
      },
      "cell_type": "markdown",
      "source": [
        "## Making training mini-batches\n",
        "\n",
        "\n",
        "To train on this data, we also want to create mini-batches for training. Remember that we want our batches to be multiple sequences of some desired number of sequence steps. Considering a simple example, our batches would look like this:\n",
        "\n",
        "<img src=\"assets/sequence_batching@1x.png\" width=500px>\n",
        "\n",
        "\n",
        "<br>\n",
        "\n",
        "In this example, we'll take the encoded characters (passed in as the `arr` parameter) and split them into multiple sequences, given by `batch_size`. Each of our sequences will be `seq_length` long.\n",
        "\n",
        "### Creating Batches\n",
        "\n",
        "**1. The first thing we need to do is discard some of the text so we only have completely full mini-batches. **\n",
        "\n",
        "Each batch contains $N \\times M$ characters, where $N$ is the batch size (the number of sequences in a batch) and $M$ is the seq_length or number of time steps in a sequence. Then, to get the total number of batches, $K$, that we can make from the array `arr`, you divide the length of `arr` by the number of characters per batch. Once you know the number of batches, you can get the total number of characters to keep from `arr`, $N * M * K$.\n",
        "\n",
        "**2. After that, we need to split `arr` into $N$ batches. ** \n",
        "\n",
        "You can do this using `arr.reshape(size)` where `size` is a tuple containing the dimensions sizes of the reshaped array. We know we want $N$ sequences in a batch, so let's make that the size of the first dimension. For the second dimension, you can use `-1` as a placeholder in the size, it'll fill up the array with the appropriate data for you. After this, you should have an array that is $N \\times (M * K)$.\n",
        "\n",
        "**3. Now that we have this array, we can iterate through it to get our mini-batches. **\n",
        "\n",
        "The idea is each batch is a $N \\times M$ window on the $N \\times (M * K)$ array. For each subsequent batch, the window moves over by `seq_length`. We also want to create both the input and target arrays. Remember that the targets are just the inputs shifted over by one character. The way I like to do this window is use `range` to take steps of size `n_steps` from $0$ to `arr.shape[1]`, the total number of tokens in each sequence. That way, the integers you get from `range` always point to the start of a batch, and each window is `seq_length` wide.\n",
        "\n",
        "> **TODO:** Write the code for creating batches in the function below. The exercises in this notebook _will not be easy_. I've provided a notebook with solutions alongside this notebook. If you get stuck, checkout the solutions. The most important thing is that you don't copy and paste the code into here, **type out the solution code yourself.**"
      ]
    },
    {
      "metadata": {
        "id": "WcSbuUNU_8XP",
        "colab_type": "code",
        "colab": {}
      },
      "cell_type": "code",
      "source": [
        "def get_batches(arr, batch_size, seq_length):\n",
        "    '''Create a generator that returns batches of size\n",
        "       batch_size x seq_length from arr.\n",
        "       \n",
        "       Arguments\n",
        "       ---------\n",
        "       arr: Array you want to make batches from\n",
        "       batch_size: Batch size, the number of sequences per batch\n",
        "       seq_length: Number of encoded chars in a sequence\n",
        "    '''\n",
        "    \n",
        "    total_batch_size = batch_size*seq_length # calculate charactr in complete mini-batch \n",
        "    ## TODO: Get the number of batches we can make\n",
        "    n_batches = len(arr) // total_batch_size\n",
        "    \n",
        "    ## TODO: Keep only enough characters to make full batches\n",
        "    arr = arr[:n_batches*total_batch_size]\n",
        "    \n",
        "    ## TODO: Reshape into batch_size rows\n",
        "    arr = arr.reshape((batch_size, -1))\n",
        "    \n",
        "    ## TODO: Iterate over the batches using a window of size seq_length\n",
        "    for n in range(0, arr.shape[1], seq_length):\n",
        "        # The features\n",
        "        x = arr[:, n:n+seq_length]  # look rows, all batches,  then columns make seq leng window\n",
        "        # The targets, shifted by one, \n",
        "        y = np.zeros_like(x) # initialized an array with all zeros, has same shape as x,\n",
        "        #  filled it up with values from x\n",
        "        try:\n",
        "            y[:, : -1], y[:, -1] = x[:, 1:], arr[:, n+seq_length]\n",
        "        except IndexError:\n",
        "            y[:, : -1], y[:, -1] = x[:, 1:], arr[:, 0]\n",
        "        \n",
        "        yield x, y"
      ],
      "execution_count": 0,
      "outputs": []
    },
    {
      "metadata": {
        "id": "tooqgtzW_8XS",
        "colab_type": "text"
      },
      "cell_type": "markdown",
      "source": [
        "### Test Your Implementation\n",
        "\n",
        "Now I'll make some data sets and we can check out what's going on as we batch data. Here, as an example, I'm going to use a batch size of 8 and 50 sequence steps."
      ]
    },
    {
      "metadata": {
        "id": "vmsaUYHC_8XS",
        "colab_type": "code",
        "colab": {}
      },
      "cell_type": "code",
      "source": [
        "batches = get_batches(encoded, 8, 50)\n",
        "x, y = next(batches)"
      ],
      "execution_count": 0,
      "outputs": []
    },
    {
      "metadata": {
        "id": "Zx_Pmu1m_8XW",
        "colab_type": "code",
        "outputId": "d09816fc-048e-464c-a094-8a5f0f94d076",
        "colab": {
          "base_uri": "https://localhost:8080/",
          "height": 359
        }
      },
      "cell_type": "code",
      "source": [
        "# printing out the first 10 items in a sequence\n",
        "print('x\\n', x[:10, :10])\n",
        "print('\\ny\\n', y[:10, :10])"
      ],
      "execution_count": 11,
      "outputs": [
        {
          "output_type": "stream",
          "text": [
            "x\n",
            " [[ 5 73 14 62 60 85 82 49 15 62]\n",
            " [82 14 41 85 15 42  7 15 82 26]\n",
            " [67 85 34 85 68 14 74 49 85 15]\n",
            " [53 82 69 30 33 15 86 60 85  9]\n",
            " [36  9 42 86 85 83 14 85 36 14]\n",
            " [14 36 49 83 62  9 61 55 85 39]\n",
            " [35 37 81 65 58 85 65 14 85  9]\n",
            " [74  9 61 55 85  1  9 74 49 85]]\n",
            "\n",
            "y\n",
            " [[73 14 62 60 85 82 49 15 62 85]\n",
            " [14 41 85 15 42  7 15 82 26 85]\n",
            " [85 34 85 68 14 74 49 85 15 26]\n",
            " [82 69 30 33 15 86 60 85  9 83]\n",
            " [ 9 42 86 85 83 14 85 36 14 86]\n",
            " [36 49 83 62  9 61 55 85 39 15]\n",
            " [37 81 65 58 85 65 14 85  9  1]\n",
            " [ 9 61 55 85  1  9 74 49 85 62]]\n"
          ],
          "name": "stdout"
        }
      ]
    },
    {
      "metadata": {
        "id": "sQlklLVv_8XY",
        "colab_type": "text"
      },
      "cell_type": "markdown",
      "source": [
        "If you implemented `get_batches` correctly, the above output should look something like \n",
        "```\n",
        "x\n",
        " [[25  8 60 11 45 27 28 73  1  2]\n",
        " [17  7 20 73 45  8 60 45 73 60]\n",
        " [27 20 80 73  7 28 73 60 73 65]\n",
        " [17 73 45  8 27 73 66  8 46 27]\n",
        " [73 17 60 12 73  8 27 28 73 45]\n",
        " [66 64 17 17 46  7 20 73 60 20]\n",
        " [73 76 20 20 60 73  8 60 80 73]\n",
        " [47 35 43  7 20 17 24 50 37 73]]\n",
        "\n",
        "y\n",
        " [[ 8 60 11 45 27 28 73  1  2  2]\n",
        " [ 7 20 73 45  8 60 45 73 60 45]\n",
        " [20 80 73  7 28 73 60 73 65  7]\n",
        " [73 45  8 27 73 66  8 46 27 65]\n",
        " [17 60 12 73  8 27 28 73 45 27]\n",
        " [64 17 17 46  7 20 73 60 20 80]\n",
        " [76 20 20 60 73  8 60 80 73 17]\n",
        " [35 43  7 20 17 24 50 37 73 36]]\n",
        " ```\n",
        " although the exact numbers may be different. Check to make sure the data is shifted over one step for `y`."
      ]
    },
    {
      "metadata": {
        "id": "mxPwzHkV_8XY",
        "colab_type": "text"
      },
      "cell_type": "markdown",
      "source": [
        "---\n",
        "## Defining the network with PyTorch\n",
        "\n",
        "Below is where you'll define the network.\n",
        "\n",
        "<img src=\"assets/charRNN.png\" width=500px>\n",
        "\n",
        "Next, you'll use PyTorch to define the architecture of the network. We start by defining the layers and operations we want. Then, define a method for the forward pass. You've also been given a method for predicting characters."
      ]
    },
    {
      "metadata": {
        "id": "-_PQ5wRE_8XZ",
        "colab_type": "text"
      },
      "cell_type": "markdown",
      "source": [
        "### Model Structure\n",
        "\n",
        "In `__init__` the suggested structure is as follows:\n",
        "* Create and store the necessary dictionaries (this has been done for you)\n",
        "* Define an LSTM layer that takes as params: an input size (the number of characters), a hidden layer size `n_hidden`, a number of layers `n_layers`, a dropout probability `drop_prob`, and a batch_first boolean (True, since we are batching)\n",
        "* Define a dropout layer with `dropout_prob`\n",
        "* Define a fully-connected layer with params: input size `n_hidden` and output size (the number of characters)\n",
        "* Finally, initialize the weights (again, this has been given)\n",
        "\n",
        "Note that some parameters have been named and given in the `__init__` function, and we use them and store them by doing something like `self.drop_prob = drop_prob`."
      ]
    },
    {
      "metadata": {
        "id": "QBhhW5VC_8Xa",
        "colab_type": "text"
      },
      "cell_type": "markdown",
      "source": [
        "---\n",
        "### LSTM Inputs/Outputs\n",
        "\n",
        "You can create a basic [LSTM layer](https://pytorch.org/docs/stable/nn.html#lstm) as follows\n",
        "\n",
        "```python\n",
        "self.lstm = nn.LSTM(input_size, n_hidden, n_layers, \n",
        "                            dropout=drop_prob, batch_first=True)\n",
        "```\n",
        "\n",
        "where `input_size` is the number of characters this cell expects to see as sequential input, and `n_hidden` is the number of units in the hidden layers in the cell. And we can add dropout by adding a dropout parameter with a specified probability; this will automatically add dropout to the inputs or outputs. Finally, in the `forward` function, we can stack up the LSTM cells into layers using `.view`. With this, you pass in a list of cells and it will send the output of one cell into the next cell.\n",
        "\n",
        "We also need to create an initial hidden state of all zeros. This is done like so\n",
        "\n",
        "```python\n",
        "self.init_hidden()\n",
        "```"
      ]
    },
    {
      "metadata": {
        "id": "jzkbTdcv_8Xc",
        "colab_type": "code",
        "outputId": "ecaf8278-768c-46e8-ac7d-abc1d685bd26",
        "colab": {
          "base_uri": "https://localhost:8080/",
          "height": 53
        }
      },
      "cell_type": "code",
      "source": [
        "# check if GPU is available\n",
        "train_on_gpu = torch.cuda.is_available()\n",
        "print(train_on_gpu)\n",
        "if(train_on_gpu):\n",
        "    print('Training on GPU!')\n",
        "else: \n",
        "    print('No GPU available, training on CPU; consider making n_epochs very small.')"
      ],
      "execution_count": 12,
      "outputs": [
        {
          "output_type": "stream",
          "text": [
            "True\n",
            "Training on GPU!\n"
          ],
          "name": "stdout"
        }
      ]
    },
    {
      "metadata": {
        "id": "EwOFyP4O_8Xe",
        "colab_type": "code",
        "colab": {}
      },
      "cell_type": "code",
      "source": [
        "## WANTED to define a character RNN with a 2layer LSTM!\n",
        "class CharRNN(nn.Module):\n",
        "    \n",
        "    def __init__(self, tokens, n_hidden=256, n_layers=2,\n",
        "                               drop_prob=0.5, lr=0.001):\n",
        "        super().__init__()\n",
        "        self.drop_prob = drop_prob\n",
        "        self.n_layers = n_layers\n",
        "        self.n_hidden = n_hidden\n",
        "        self.lr = lr\n",
        "        \n",
        "        # creating character dictionaries\n",
        "        self.chars = tokens\n",
        "        self.int2char = dict(enumerate(self.chars))\n",
        "        self.char2int = {ch: ii for ii, ch in self.int2char.items()}\n",
        "        \n",
        "        ## TODO: define the layers of the model\n",
        "        ## 1-Define LSTM layer  \n",
        "            # drop_prob will create dropout layer between lstm layers\n",
        "            # all will be passed as input to Rnn \n",
        "            # batch first id true, cuz the first dimension is batch size,instead seq length\n",
        "        self.lstm = nn.LSTM(len(chars), n_hidden,n_layers, \n",
        "                            dropout=drop_prob,batch_first=True)\n",
        "        \n",
        "            ## 2-TODO define a dropout layer, between lstm and final layer\n",
        "        self.dropout = nn.Dropout(drop_prob)\n",
        "            \n",
        "            ## 3-TODO define the final fully connecyed output layer\n",
        "            \n",
        "        self.fc = nn.Linear(n_hidden, len(self.chars))\n",
        "    \n",
        "    def forward(self, x, hidden):\n",
        "        ''' Forward pass through the network. \n",
        "            These inputs are x, and the hidden/cell state `hidden`. '''\n",
        "                \n",
        "        ## TODO: Get the outputs and the new hidden state from the lstm\n",
        "        r_output, hidden =self.lstm(x, hidden)\n",
        "        \n",
        "        # 2- TODO pass through a dropout layer\n",
        "        out = self.dropout(r_output)\n",
        "        \n",
        "        #3- TODO stack up lstm outputs using view\n",
        "        #  need to use contiguous to reshape the output\n",
        "        out = out.contiguous().view(-1, self.n_hidden)\n",
        "        \n",
        "        #4- TODO put x through the fully connected layer\n",
        "        out = self.fc(out)\n",
        "        \n",
        "        # return the final output and the hidden state\n",
        "        return out, hidden\n",
        "    \n",
        "    \n",
        "    def init_hidden(self, batch_size):\n",
        "        ''' Initializes hidden state '''\n",
        "        # Create two new tensors with sizes n_layers x batch_size x n_hidden,\n",
        "        # initialized to zero, for hidden state and cell state of LSTM\n",
        "        weight = next(self.parameters()).data\n",
        "        \n",
        "        if (train_on_gpu):\n",
        "            hidden = (weight.new(self.n_layers, batch_size, self.n_hidden).zero_().cuda(),\n",
        "                  weight.new(self.n_layers, batch_size, self.n_hidden).zero_().cuda())\n",
        "        else:\n",
        "            hidden = (weight.new(self.n_layers, batch_size, self.n_hidden).zero_(),\n",
        "                      weight.new(self.n_layers, batch_size, self.n_hidden).zero_())\n",
        "        \n",
        "        return hidden\n",
        "        "
      ],
      "execution_count": 0,
      "outputs": []
    },
    {
      "metadata": {
        "id": "sf6APFXS_8Xi",
        "colab_type": "text"
      },
      "cell_type": "markdown",
      "source": [
        "## Time to train\n",
        "\n",
        "The train function gives us the ability to set the number of epochs, the learning rate, and other parameters.\n",
        "\n",
        "Below we're using an Adam optimizer and cross entropy loss since we are looking at character class scores as output. We calculate the loss and perform backpropagation, as usual!\n",
        "\n",
        "A couple of details about training: \n",
        ">* Within the batch loop, we detach the hidden state from its history; this time setting it equal to a new *tuple* variable because an LSTM has a hidden state that is a tuple of the hidden and cell states.\n",
        "* We use [`clip_grad_norm_`](https://pytorch.org/docs/stable/_modules/torch/nn/utils/clip_grad.html) to help prevent exploding gradients."
      ]
    },
    {
      "metadata": {
        "id": "TFGRrsId_8Xk",
        "colab_type": "code",
        "colab": {}
      },
      "cell_type": "code",
      "source": [
        "def train(net, data, epochs=10, batch_size=10, seq_length=50, lr=0.001, clip=5, val_frac=0.1, print_every=10):\n",
        "    ''' Training a network \n",
        "    \n",
        "        Arguments\n",
        "        ---------\n",
        "        \n",
        "        net: CharRNN network\n",
        "        data: text data to train the network\n",
        "        epochs: Number of epochs to train\n",
        "        batch_size: Number of mini-sequences per mini-batch, aka batch size\n",
        "        seq_length: Number of character steps per mini-batch\n",
        "        lr: learning rate\n",
        "        clip: gradient clipping\n",
        "        val_frac: Fraction of data to hold out for validation\n",
        "        print_every: Number of steps for printing training and validation loss\n",
        "    \n",
        "    '''\n",
        "    net.train()\n",
        "    \n",
        "    opt = torch.optim.Adam(net.parameters(), lr=lr)\n",
        "    criterion = nn.CrossEntropyLoss() # useful for when outputtng char class scores\n",
        "    \n",
        "    # create training and validation data\n",
        "    val_idx = int(len(data)*(1-val_frac))\n",
        "    data, val_data = data[:val_idx], data[val_idx:]\n",
        "    \n",
        "    if(train_on_gpu):\n",
        "        net.cuda()\n",
        "    \n",
        "    counter = 0\n",
        "    n_chars = len(net.chars)\n",
        "    for e in range(epochs):\n",
        "        # initialize hidden state\n",
        "        h = net.init_hidden(batch_size) # returns a hidden in call state are all zero\n",
        "        \n",
        "        for x, y in get_batches(data, batch_size, seq_length): # gettn X,Y mini batches from batch generator\n",
        "            #batches of inputs=x, targets = y\n",
        "            counter += 1\n",
        "            \n",
        "            # One-hot encode our data and make them Torch tensors\n",
        "            x = one_hot_encode(x, n_chars)\n",
        "            inputs, targets = torch.from_numpy(x), torch.from_numpy(y)\n",
        "            \n",
        "            if(train_on_gpu):\n",
        "                inputs, targets = inputs.cuda(), targets.cuda()\n",
        "\n",
        "            # Creating new variables for the hidden state, otherwise\n",
        "            # we'd backprop through the entire training history\n",
        "            # detach past hidden states from its history, recall that hidden state of lstm as tuple\n",
        "            h = tuple([each.data for each in h])\n",
        "\n",
        "            # zero accumulated gradients\n",
        "            net.zero_grad()\n",
        "            \n",
        "            # get the output from the model\n",
        "            output, h = net(inputs, h)\n",
        "            \n",
        "            # calculate the loss and perform backprop\n",
        "            loss = criterion(output, targets.view(batch_size*seq_length))\n",
        "            loss.backward()\n",
        "            # `clip_grad_norm` helps prevent the exploding gradient problem in RNNs / LSTMs.\n",
        "            # clip is a threshold we set, if gradient larger than threshold\n",
        "            nn.utils.clip_grad_norm_(net.parameters(), clip)\n",
        "            opt.step()\n",
        "            \n",
        "            # loss stats\n",
        "            if counter % print_every == 0:\n",
        "                # Get validation loss\n",
        "                val_h = net.init_hidden(batch_size)\n",
        "                val_losses = []\n",
        "                net.eval()\n",
        "                for x, y in get_batches(val_data, batch_size, seq_length):\n",
        "                    # One-hot encode our data and make them Torch tensors\n",
        "                    x = one_hot_encode(x, n_chars)\n",
        "                    x, y = torch.from_numpy(x), torch.from_numpy(y)\n",
        "                    \n",
        "                    # Creating new variables for the hidden state, otherwise\n",
        "                    # we'd backprop through the entire training history\n",
        "                    val_h = tuple([each.data for each in val_h])\n",
        "                    \n",
        "                    inputs, targets = x, y\n",
        "                    if(train_on_gpu):\n",
        "                        inputs, targets = inputs.cuda(), targets.cuda()\n",
        "\n",
        "                    output, val_h = net(inputs, val_h)\n",
        "                    val_loss = criterion(output, targets.view(batch_size*seq_length))\n",
        "                \n",
        "                    val_losses.append(val_loss.item())\n",
        "                \n",
        "                net.train() # reset to train mode after iterationg through validation data\n",
        "                \n",
        "                print(\"Epoch: {}/{}...\".format(e+1, epochs),\n",
        "                      \"Step: {}...\".format(counter),\n",
        "                      \"Loss: {:.4f}...\".format(loss.item()),\n",
        "                      \"Val Loss: {:.4f}\".format(np.mean(val_losses)))"
      ],
      "execution_count": 0,
      "outputs": []
    },
    {
      "metadata": {
        "id": "H1UAjfew_8Xo",
        "colab_type": "text"
      },
      "cell_type": "markdown",
      "source": [
        "## Instantiating the model\n",
        "\n",
        "Now we can actually train the network. First we'll create the network itself, with some given hyperparameters. Then, define the mini-batches sizes, and start training!"
      ]
    },
    {
      "metadata": {
        "id": "bE4JcUNy_8Xo",
        "colab_type": "code",
        "outputId": "3e18359e-0a17-4ecf-e6e9-9d6cc6a448ba",
        "colab": {
          "base_uri": "https://localhost:8080/",
          "height": 107
        }
      },
      "cell_type": "code",
      "source": [
        "## TODO: set you model hyperparameters\n",
        "# define and print the net\n",
        "n_hidden= 512\n",
        "n_layers= 2\n",
        "\n",
        "net = CharRNN(chars, n_hidden, n_layers)\n",
        "print(net)"
      ],
      "execution_count": 15,
      "outputs": [
        {
          "output_type": "stream",
          "text": [
            "CharRNN(\n",
            "  (lstm): LSTM(87, 512, num_layers=2, batch_first=True, dropout=0.5)\n",
            "  (dropout): Dropout(p=0.5)\n",
            "  (fc): Linear(in_features=512, out_features=87, bias=True)\n",
            ")\n"
          ],
          "name": "stdout"
        }
      ]
    },
    {
      "metadata": {
        "id": "yHZUl0ki_8Xt",
        "colab_type": "text"
      },
      "cell_type": "markdown",
      "source": [
        "### Set your training hyperparameters!"
      ]
    },
    {
      "metadata": {
        "scrolled": true,
        "id": "YE5vHYnU_8Xt",
        "colab_type": "code",
        "outputId": "174774fe-f131-42af-e0cb-30272da3dee8",
        "colab": {
          "base_uri": "https://localhost:8080/",
          "height": 2159
        }
      },
      "cell_type": "code",
      "source": [
        "batch_size = 16\n",
        "seq_length = 10\n",
        "n_epochs = 10  # start small if you are just testing initial behavior\n",
        "\n",
        "# train the model\n",
        "# if its not decreasing change hyperparameters\n",
        "train(net, encoded, epochs=n_epochs, batch_size=batch_size, seq_length=seq_length, lr=0.001, print_every=100)"
      ],
      "execution_count": 29,
      "outputs": [
        {
          "output_type": "stream",
          "text": [
            "Epoch: 1/10... Step: 100... Loss: 2.2378... Val Loss: 2.1456\n",
            "Epoch: 1/10... Step: 200... Loss: 2.2387... Val Loss: 2.1010\n",
            "Epoch: 1/10... Step: 300... Loss: 2.0269... Val Loss: 2.0649\n",
            "Epoch: 1/10... Step: 400... Loss: 1.9437... Val Loss: 2.0164\n",
            "Epoch: 1/10... Step: 500... Loss: 1.7594... Val Loss: 1.9896\n",
            "Epoch: 1/10... Step: 600... Loss: 2.0619... Val Loss: 1.9451\n",
            "Epoch: 1/10... Step: 700... Loss: 1.9918... Val Loss: 1.9268\n",
            "Epoch: 1/10... Step: 800... Loss: 2.2498... Val Loss: 1.8906\n",
            "Epoch: 1/10... Step: 900... Loss: 1.8610... Val Loss: 1.8513\n",
            "Epoch: 1/10... Step: 1000... Loss: 1.9299... Val Loss: 1.8407\n",
            "Epoch: 1/10... Step: 1100... Loss: 1.8028... Val Loss: 1.8294\n",
            "Epoch: 2/10... Step: 1200... Loss: 1.9074... Val Loss: 1.7972\n",
            "Epoch: 2/10... Step: 1300... Loss: 1.7265... Val Loss: 1.7867\n",
            "Epoch: 2/10... Step: 1400... Loss: 1.8947... Val Loss: 1.7624\n",
            "Epoch: 2/10... Step: 1500... Loss: 1.6965... Val Loss: 1.7519\n",
            "Epoch: 2/10... Step: 1600... Loss: 1.6645... Val Loss: 1.7330\n",
            "Epoch: 2/10... Step: 1700... Loss: 1.6257... Val Loss: 1.7200\n",
            "Epoch: 2/10... Step: 1800... Loss: 2.1251... Val Loss: 1.7035\n",
            "Epoch: 2/10... Step: 1900... Loss: 1.6686... Val Loss: 1.7018\n",
            "Epoch: 2/10... Step: 2000... Loss: 1.5432... Val Loss: 1.6876\n",
            "Epoch: 2/10... Step: 2100... Loss: 1.7116... Val Loss: 1.6719\n",
            "Epoch: 2/10... Step: 2200... Loss: 1.5737... Val Loss: 1.6583\n",
            "Epoch: 2/10... Step: 2300... Loss: 1.6552... Val Loss: 1.6529\n",
            "Epoch: 3/10... Step: 2400... Loss: 1.6873... Val Loss: 1.6384\n",
            "Epoch: 3/10... Step: 2500... Loss: 1.7453... Val Loss: 1.6323\n",
            "Epoch: 3/10... Step: 2600... Loss: 1.2825... Val Loss: 1.6288\n",
            "Epoch: 3/10... Step: 2700... Loss: 1.7349... Val Loss: 1.6177\n",
            "Epoch: 3/10... Step: 2800... Loss: 1.8742... Val Loss: 1.6088\n",
            "Epoch: 3/10... Step: 2900... Loss: 1.4944... Val Loss: 1.6080\n",
            "Epoch: 3/10... Step: 3000... Loss: 1.7836... Val Loss: 1.5917\n",
            "Epoch: 3/10... Step: 3100... Loss: 1.6587... Val Loss: 1.5879\n",
            "Epoch: 3/10... Step: 3200... Loss: 1.7145... Val Loss: 1.5813\n",
            "Epoch: 3/10... Step: 3300... Loss: 1.5233... Val Loss: 1.5782\n",
            "Epoch: 3/10... Step: 3400... Loss: 1.7887... Val Loss: 1.5680\n",
            "Epoch: 3/10... Step: 3500... Loss: 1.8489... Val Loss: 1.5664\n",
            "Epoch: 4/10... Step: 3600... Loss: 1.7771... Val Loss: 1.5608\n",
            "Epoch: 4/10... Step: 3700... Loss: 1.6128... Val Loss: 1.5486\n",
            "Epoch: 4/10... Step: 3800... Loss: 1.6820... Val Loss: 1.5514\n",
            "Epoch: 4/10... Step: 3900... Loss: 1.3348... Val Loss: 1.5494\n",
            "Epoch: 4/10... Step: 4000... Loss: 1.5932... Val Loss: 1.5357\n",
            "Epoch: 4/10... Step: 4100... Loss: 1.8342... Val Loss: 1.5373\n",
            "Epoch: 4/10... Step: 4200... Loss: 1.5485... Val Loss: 1.5285\n",
            "Epoch: 4/10... Step: 4300... Loss: 1.5130... Val Loss: 1.5227\n",
            "Epoch: 4/10... Step: 4400... Loss: 1.3901... Val Loss: 1.5229\n",
            "Epoch: 4/10... Step: 4500... Loss: 1.6585... Val Loss: 1.5222\n",
            "Epoch: 4/10... Step: 4600... Loss: 1.4851... Val Loss: 1.5107\n",
            "Epoch: 4/10... Step: 4700... Loss: 1.8651... Val Loss: 1.5080\n",
            "Epoch: 5/10... Step: 4800... Loss: 1.6603... Val Loss: 1.5014\n",
            "Epoch: 5/10... Step: 4900... Loss: 1.5533... Val Loss: 1.5028\n",
            "Epoch: 5/10... Step: 5000... Loss: 1.7132... Val Loss: 1.5082\n",
            "Epoch: 5/10... Step: 5100... Loss: 1.4364... Val Loss: 1.5017\n",
            "Epoch: 5/10... Step: 5200... Loss: 1.3993... Val Loss: 1.4981\n",
            "Epoch: 5/10... Step: 5300... Loss: 1.4473... Val Loss: 1.4936\n",
            "Epoch: 5/10... Step: 5400... Loss: 1.4125... Val Loss: 1.4867\n",
            "Epoch: 5/10... Step: 5500... Loss: 1.6423... Val Loss: 1.4821\n",
            "Epoch: 5/10... Step: 5600... Loss: 1.4956... Val Loss: 1.4898\n",
            "Epoch: 5/10... Step: 5700... Loss: 1.6441... Val Loss: 1.4878\n",
            "Epoch: 5/10... Step: 5800... Loss: 1.5323... Val Loss: 1.4782\n",
            "Epoch: 5/10... Step: 5900... Loss: 1.4186... Val Loss: 1.4743\n",
            "Epoch: 6/10... Step: 6000... Loss: 1.4880... Val Loss: 1.4704\n",
            "Epoch: 6/10... Step: 6100... Loss: 1.2897... Val Loss: 1.4741\n",
            "Epoch: 6/10... Step: 6200... Loss: 1.6703... Val Loss: 1.4778\n",
            "Epoch: 6/10... Step: 6300... Loss: 1.3018... Val Loss: 1.4743\n",
            "Epoch: 6/10... Step: 6400... Loss: 1.3238... Val Loss: 1.4700\n",
            "Epoch: 6/10... Step: 6500... Loss: 1.3463... Val Loss: 1.4672\n",
            "Epoch: 6/10... Step: 6600... Loss: 1.3210... Val Loss: 1.4616\n",
            "Epoch: 6/10... Step: 6700... Loss: 1.5273... Val Loss: 1.4584\n",
            "Epoch: 6/10... Step: 6800... Loss: 1.6475... Val Loss: 1.4629\n",
            "Epoch: 6/10... Step: 6900... Loss: 1.2832... Val Loss: 1.4637\n",
            "Epoch: 6/10... Step: 7000... Loss: 1.6503... Val Loss: 1.4562\n",
            "Epoch: 6/10... Step: 7100... Loss: 1.4400... Val Loss: 1.4550\n",
            "Epoch: 7/10... Step: 7200... Loss: 1.3614... Val Loss: 1.4493\n",
            "Epoch: 7/10... Step: 7300... Loss: 1.3758... Val Loss: 1.4534\n",
            "Epoch: 7/10... Step: 7400... Loss: 1.5704... Val Loss: 1.4525\n",
            "Epoch: 7/10... Step: 7500... Loss: 1.4476... Val Loss: 1.4537\n",
            "Epoch: 7/10... Step: 7600... Loss: 1.4215... Val Loss: 1.4455\n",
            "Epoch: 7/10... Step: 7700... Loss: 1.5128... Val Loss: 1.4486\n",
            "Epoch: 7/10... Step: 7800... Loss: 1.2670... Val Loss: 1.4408\n",
            "Epoch: 7/10... Step: 7900... Loss: 1.5050... Val Loss: 1.4413\n",
            "Epoch: 7/10... Step: 8000... Loss: 1.6470... Val Loss: 1.4433\n",
            "Epoch: 7/10... Step: 8100... Loss: 1.4895... Val Loss: 1.4489\n",
            "Epoch: 7/10... Step: 8200... Loss: 1.4738... Val Loss: 1.4376\n",
            "Epoch: 7/10... Step: 8300... Loss: 1.6066... Val Loss: 1.4353\n",
            "Epoch: 8/10... Step: 8400... Loss: 1.2887... Val Loss: 1.4327\n",
            "Epoch: 8/10... Step: 8500... Loss: 1.3742... Val Loss: 1.4444\n",
            "Epoch: 8/10... Step: 8600... Loss: 1.4033... Val Loss: 1.4378\n",
            "Epoch: 8/10... Step: 8700... Loss: 1.1807... Val Loss: 1.4384\n",
            "Epoch: 8/10... Step: 8800... Loss: 1.3911... Val Loss: 1.4363\n",
            "Epoch: 8/10... Step: 8900... Loss: 1.3645... Val Loss: 1.4365\n",
            "Epoch: 8/10... Step: 9000... Loss: 1.4505... Val Loss: 1.4326\n",
            "Epoch: 8/10... Step: 9100... Loss: 1.2819... Val Loss: 1.4290\n",
            "Epoch: 8/10... Step: 9200... Loss: 1.3935... Val Loss: 1.4340\n",
            "Epoch: 8/10... Step: 9300... Loss: 1.5564... Val Loss: 1.4352\n",
            "Epoch: 8/10... Step: 9400... Loss: 1.1645... Val Loss: 1.4249\n",
            "Epoch: 8/10... Step: 9500... Loss: 1.5118... Val Loss: 1.4289\n",
            "Epoch: 9/10... Step: 9600... Loss: 1.2938... Val Loss: 1.4215\n",
            "Epoch: 9/10... Step: 9700... Loss: 1.3932... Val Loss: 1.4295\n",
            "Epoch: 9/10... Step: 9800... Loss: 1.2717... Val Loss: 1.4279\n",
            "Epoch: 9/10... Step: 9900... Loss: 1.1037... Val Loss: 1.4257\n",
            "Epoch: 9/10... Step: 10000... Loss: 1.3830... Val Loss: 1.4278\n",
            "Epoch: 9/10... Step: 10100... Loss: 1.3001... Val Loss: 1.4265\n",
            "Epoch: 9/10... Step: 10200... Loss: 1.3648... Val Loss: 1.4260\n",
            "Epoch: 9/10... Step: 10300... Loss: 1.3162... Val Loss: 1.4264\n",
            "Epoch: 9/10... Step: 10400... Loss: 1.3721... Val Loss: 1.4296\n",
            "Epoch: 9/10... Step: 10500... Loss: 1.4380... Val Loss: 1.4330\n",
            "Epoch: 9/10... Step: 10600... Loss: 1.5307... Val Loss: 1.4217\n",
            "Epoch: 9/10... Step: 10700... Loss: 1.2760... Val Loss: 1.4177\n",
            "Epoch: 10/10... Step: 10800... Loss: 1.5560... Val Loss: 1.4141\n",
            "Epoch: 10/10... Step: 10900... Loss: 1.2644... Val Loss: 1.4229\n",
            "Epoch: 10/10... Step: 11000... Loss: 1.3098... Val Loss: 1.4140\n",
            "Epoch: 10/10... Step: 11100... Loss: 0.8923... Val Loss: 1.4172\n",
            "Epoch: 10/10... Step: 11200... Loss: 1.2144... Val Loss: 1.4226\n",
            "Epoch: 10/10... Step: 11300... Loss: 1.4057... Val Loss: 1.4263\n",
            "Epoch: 10/10... Step: 11400... Loss: 1.4118... Val Loss: 1.4169\n",
            "Epoch: 10/10... Step: 11500... Loss: 1.4404... Val Loss: 1.4109\n",
            "Epoch: 10/10... Step: 11600... Loss: 1.2482... Val Loss: 1.4252\n",
            "Epoch: 10/10... Step: 11700... Loss: 1.3747... Val Loss: 1.4145\n",
            "Epoch: 10/10... Step: 11800... Loss: 1.3210... Val Loss: 1.4112\n",
            "Epoch: 10/10... Step: 11900... Loss: 1.6307... Val Loss: 1.4151\n"
          ],
          "name": "stdout"
        }
      ]
    },
    {
      "metadata": {
        "id": "ZCfKj4or_8Xx",
        "colab_type": "text"
      },
      "cell_type": "markdown",
      "source": [
        "## Getting the best model\n",
        "\n",
        "To set your hyperparameters to get the best performance, you'll want to watch the training and validation losses. **If your training loss is much lower than the validation loss, you're overfitting. **Increase regularization (more dropout) or use a smaller network. If the training and validation losses are close, you're underfitting so you can increase the size of the network."
      ]
    },
    {
      "metadata": {
        "id": "DaaRYsX7_8Xx",
        "colab_type": "text"
      },
      "cell_type": "markdown",
      "source": [
        "## Hyperparameters\n",
        "\n",
        "Here are the hyperparameters for the network.\n",
        "\n",
        "In defining the model:\n",
        "* `n_hidden` - The number of units in the hidden layers.\n",
        "* `n_layers` - Number of hidden LSTM layers to use.\n",
        "\n",
        "We assume that dropout probability and learning rate will be kept at the default, in this example.\n",
        "\n",
        "And in training:\n",
        "* `batch_size` - Number of sequences running through the network in one pass.\n",
        "* `seq_length` - Number of characters in the sequence the network is trained on. Larger is better typically, the network will learn more long range dependencies. But it takes longer to train. 100 is typically a good number here.\n",
        "* `lr` - Learning rate for training\n",
        "\n",
        "Here's some good advice from Andrej Karpathy on training the network. I'm going to copy it in here for your benefit, but also link to [where it originally came from](https://github.com/karpathy/char-rnn#tips-and-tricks).\n",
        "\n",
        "> ## Tips and Tricks\n",
        "\n",
        ">### Monitoring Validation Loss vs. Training Loss\n",
        ">If you're somewhat new to Machine Learning or Neural Networks it can take a bit of expertise to get good models. The most important quantity to keep track of is the difference between your training loss (printed during training) and the validation loss (printed once in a while when the RNN is run on the validation data (by default every 1000 iterations)). In particular:\n",
        "\n",
        "> - If your training loss is much lower than validation loss then this means the network might be **overfitting**. Solutions to this are to decrease your network size, or to increase dropout. For example you could try dropout of 0.5 and so on.\n",
        "> - If your training/validation loss are about equal then your model is **underfitting**. Increase the size of your model (either number of layers or the raw number of neurons per layer)\n",
        "\n",
        "> ### Approximate number of parameters\n",
        "\n",
        "> The two most important parameters that control the model are `n_hidden` and `n_layers`. I would advise that you always use `n_layers` of either 2/3. The `n_hidden` can be adjusted based on how much data you have. The two important quantities to keep track of here are:\n",
        "\n",
        "> - The number of parameters in your model. This is printed when you start training.\n",
        "> - The size of your dataset. 1MB file is approximately 1 million characters.\n",
        "\n",
        ">These two should be about the same order of magnitude. It's a little tricky to tell. Here are some examples:\n",
        "\n",
        "> - I have a 100MB dataset and I'm using the default parameter settings (which currently print 150K parameters). My data size is significantly larger (100 mil >> 0.15 mil), so I expect to heavily underfit. I am thinking I can comfortably afford to make `n_hidden` larger.\n",
        "> - I have a 10MB dataset and running a 10 million parameter model. I'm slightly nervous and I'm carefully monitoring my validation loss. If it's larger than my training loss then I may want to try to increase dropout a bit and see if that helps the validation loss.\n",
        "\n",
        "> ### Best models strategy\n",
        "\n",
        ">The winning strategy to obtaining very good models (if you have the compute time) is to always err on making the network larger (as large as you're willing to wait for it to compute) and then try different dropout values (between 0,1). Whatever model has the best validation performance (the loss, written in the checkpoint filename, low is good) is the one you should use in the end.\n",
        "\n",
        ">It is very common in deep learning to run many different models with many different hyperparameter settings, and in the end take whatever checkpoint gave the best validation performance.\n",
        "\n",
        ">By the way, the size of your training and validation splits are also parameters. Make sure you have a decent amount of data in your validation set or otherwise the validation performance will be noisy and not very informative."
      ]
    },
    {
      "metadata": {
        "id": "vU47_RYq_8Xz",
        "colab_type": "text"
      },
      "cell_type": "markdown",
      "source": [
        "## Checkpoint\n",
        "\n",
        "After training, we'll save the model so we can load it again later if we need too. Here I'm saving the parameters needed to create the same architecture, the hidden layer hyperparameters and the text characters."
      ]
    },
    {
      "metadata": {
        "id": "UANHPTFf_8Xz",
        "colab_type": "code",
        "colab": {}
      },
      "cell_type": "code",
      "source": [
        "# change the name, for saving multiple files\n",
        "model_name = 'rnn_x_epoch.net'\n",
        "\n",
        "checkpoint = {'n_hidden': net.n_hidden,\n",
        "              'n_layers': net.n_layers,\n",
        "              'state_dict': net.state_dict(),\n",
        "              'tokens': net.chars}\n",
        "\n",
        "with open(model_name, 'wb') as f:\n",
        "    torch.save(checkpoint, f)"
      ],
      "execution_count": 0,
      "outputs": []
    },
    {
      "metadata": {
        "id": "geknILQq_8X4",
        "colab_type": "text"
      },
      "cell_type": "markdown",
      "source": [
        "---\n",
        "## Making Predictions\n",
        "\n",
        "Now that the model is trained, we'll want to sample from it and make predictions about next characters! To sample, we pass in a character and have the network predict the next character. Then we take that character, pass it back in, and get another predicted character. Just keep doing this and you'll generate a bunch of text!\n",
        "\n",
        "### A note on the `predict`  function\n",
        "\n",
        "The output of our RNN is from a fully-connected layer and it outputs a **distribution of next-character scores**.\n",
        "\n",
        "> To actually get the next character, we apply a softmax function, which gives us a *probability* distribution that we can then sample to predict the next character.\n",
        "\n",
        "### Top K sampling\n",
        "\n",
        "Our predictions come from a categorical probability distribution over all the possible characters. We can make the sample text and make it more reasonable to handle (with less variables) by only considering some $K$ most probable characters. This will prevent the network from giving us completely absurd characters while allowing it to introduce some noise and randomness into the sampled text. Read more about [topk, here](https://pytorch.org/docs/stable/torch.html#torch.topk).\n"
      ]
    },
    {
      "metadata": {
        "id": "vZZY1Jrv_8X4",
        "colab_type": "code",
        "colab": {}
      },
      "cell_type": "code",
      "source": [
        "def predict(net, char, h=None, top_k=None):\n",
        "        ''' Given a character, predict the next character.\n",
        "            Returns the predicted character and the hidden state.\n",
        "        '''\n",
        "        \n",
        "        # tensor inputs\n",
        "        x = np.array([[net.char2int[char]]])\n",
        "        x = one_hot_encode(x, len(net.chars))\n",
        "        inputs = torch.from_numpy(x)\n",
        "        \n",
        "        if(train_on_gpu):\n",
        "            inputs = inputs.cuda()\n",
        "        \n",
        "        # detach hidden state from history\n",
        "        h = tuple([each.data for each in h])\n",
        "        # get the output of the model\n",
        "        out, h = net(inputs, h)\n",
        "\n",
        "        # get the character probabilities\n",
        "        p = F.softmax(out, dim=1).data\n",
        "        if(train_on_gpu):\n",
        "            p = p.cpu() # move to cpu\n",
        "        \n",
        "        # get top characters\n",
        "        if top_k is None:\n",
        "            top_ch = np.arange(len(net.chars))\n",
        "        else:\n",
        "            p, top_ch = p.topk(top_k)\n",
        "            top_ch = top_ch.numpy().squeeze()\n",
        "        \n",
        "        # select the likely next character with some element of randomness\n",
        "        p = p.numpy().squeeze()\n",
        "        char = np.random.choice(top_ch, p=p/p.sum())\n",
        "        \n",
        "        # return the encoded value of the predicted char and the hidden state\n",
        "        return net.int2char[char], h"
      ],
      "execution_count": 0,
      "outputs": []
    },
    {
      "metadata": {
        "id": "0LegnEZM_8X7",
        "colab_type": "text"
      },
      "cell_type": "markdown",
      "source": [
        "### Priming and generating text \n",
        "\n",
        "Typically you'll want to prime the network so you can build up a hidden state. Otherwise the network will start out generating characters at random. In general the first bunch of characters will be a little rough since it hasn't built up a long history of characters to predict from."
      ]
    },
    {
      "metadata": {
        "id": "1yakX4nR_8X8",
        "colab_type": "code",
        "colab": {}
      },
      "cell_type": "code",
      "source": [
        "def sample(net, size, prime='The', top_k=None):\n",
        "        \n",
        "    if(train_on_gpu):\n",
        "        net.cuda()\n",
        "    else:\n",
        "        net.cpu()\n",
        "    \n",
        "    net.eval() # eval mode\n",
        "    \n",
        "    # First off, run through the prime characters\n",
        "    chars = [ch for ch in prime]\n",
        "    h = net.init_hidden(1)\n",
        "    for ch in prime:\n",
        "        char, h = predict(net, ch, h, top_k=top_k)\n",
        "\n",
        "    chars.append(char)\n",
        "    \n",
        "    # Now pass in the previous character and get a new one\n",
        "    for ii in range(size):\n",
        "        char, h = predict(net, chars[-1], h, top_k=top_k)\n",
        "        chars.append(char)\n",
        "\n",
        "    return ''.join(chars)"
      ],
      "execution_count": 0,
      "outputs": []
    },
    {
      "metadata": {
        "id": "py1lcdSK_8X-",
        "colab_type": "code",
        "outputId": "bb52b322-6cf1-4afe-e329-4b3272e29c2d",
        "colab": {
          "base_uri": "https://localhost:8080/",
          "height": 71
        }
      },
      "cell_type": "code",
      "source": [
        "print(sample(net, 50, prime='Otis', top_k=5))"
      ],
      "execution_count": 34,
      "outputs": [
        {
          "output_type": "stream",
          "text": [
            "Otis will have to go.\n",
            "I wall ather or now? I'm fine.\n",
            "- \n"
          ],
          "name": "stdout"
        }
      ]
    },
    {
      "metadata": {
        "id": "UhWPHvtR_8YB",
        "colab_type": "text"
      },
      "cell_type": "markdown",
      "source": [
        "## Loading a checkpoint"
      ]
    },
    {
      "metadata": {
        "id": "XwsY5qQl_8YC",
        "colab_type": "code",
        "colab": {}
      },
      "cell_type": "code",
      "source": [
        "# Here we have loaded in a model that trained over 20 epochs `rnn_20_epoch.net`\n",
        "with open('rnn_x_epoch.net', 'rb') as f:\n",
        "    checkpoint = torch.load(f)\n",
        "    \n",
        "loaded = CharRNN(checkpoint['tokens'], n_hidden=checkpoint['n_hidden'], n_layers=checkpoint['n_layers'])\n",
        "loaded.load_state_dict(checkpoint['state_dict'])"
      ],
      "execution_count": 0,
      "outputs": []
    },
    {
      "metadata": {
        "id": "TpDnQ-4V_8YK",
        "colab_type": "code",
        "outputId": "e45eacc4-9c71-47ba-f3b6-a5791aca2763",
        "colab": {
          "base_uri": "https://localhost:8080/",
          "height": 71
        }
      },
      "cell_type": "code",
      "source": [
        "# Sample using a loaded model \n",
        "print(sample(loaded, 50, top_k=5, prime=\"Otis\"))"
      ],
      "execution_count": 36,
      "outputs": [
        {
          "output_type": "stream",
          "text": [
            "Otis ar and teamher wordd with a lot.\n",
            "It's not a let.\n",
            "-\n"
          ],
          "name": "stdout"
        }
      ]
    },
    {
      "metadata": {
        "id": "PqwfAt3k_8YH",
        "colab_type": "code",
        "outputId": "00ca845c-4fa5-40b2-a01f-cde6669b9699",
        "colab": {
          "base_uri": "https://localhost:8080/",
          "height": 89
        }
      },
      "cell_type": "code",
      "source": [
        "# Sample using a loaded model\n",
        "print(sample(loaded, 50, top_k=5, prime=\"Maeve\"))"
      ],
      "execution_count": 37,
      "outputs": [
        {
          "output_type": "stream",
          "text": [
            "Maeve.\n",
            "With a liagh.\n",
            "Well donotime, I'm friend.\n",
            "It's onl\n"
          ],
          "name": "stdout"
        }
      ]
    },
    {
      "metadata": {
        "id": "Y0LNQo-ataAJ",
        "colab_type": "code",
        "colab": {
          "base_uri": "https://localhost:8080/",
          "height": 71
        },
        "outputId": "422d4680-f14c-4159-cb47-c989ad3f3eae"
      },
      "cell_type": "code",
      "source": [
        "# Sample using a loaded model\n",
        "print(sample(loaded, 50, top_k=5, prime=\"Eric\"))"
      ],
      "execution_count": 38,
      "outputs": [
        {
          "output_type": "stream",
          "text": [
            "Eric! Your mither.\n",
            "Yes, it's that you? [SIGHS] - Hey.\n",
            "-\n"
          ],
          "name": "stdout"
        }
      ]
    },
    {
      "metadata": {
        "id": "AO6ms6DynZrI",
        "colab_type": "code",
        "colab": {}
      },
      "cell_type": "code",
      "source": [
        ""
      ],
      "execution_count": 0,
      "outputs": []
    }
  ]
}